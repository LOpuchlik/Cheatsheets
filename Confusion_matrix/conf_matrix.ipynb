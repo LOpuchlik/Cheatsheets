{
  "nbformat": 4,
  "nbformat_minor": 0,
  "metadata": {
    "colab": {
      "name": "conf_matrix.ipynb",
      "provenance": [],
      "collapsed_sections": []
    },
    "kernelspec": {
      "name": "python3",
      "display_name": "Python 3"
    },
    "language_info": {
      "name": "python"
    }
  },
  "cells": [
    {
      "cell_type": "code",
      "execution_count": 113,
      "metadata": {
        "id": "WQkui--PtZVl"
      },
      "outputs": [],
      "source": [
        "from sklearn.metrics import confusion_matrix\n",
        "import seaborn as sns\n",
        "import numpy as np\n",
        "import pandas as pd\n",
        "import matplotlib.pyplot as plt"
      ]
    },
    {
      "cell_type": "code",
      "source": [
        "# generating data for the discussed example\n",
        "#predicted results\n",
        "tp = [1]*700 # model gave 1s\n",
        "fn = [0]*120 # model gave 0s\n",
        "tp_fn = tp+fn\n",
        "\n",
        "tn =[0]*100 # model gave 0s\n",
        "fp = [1]*80 # model gave 1s\n",
        "tn_fp=tn+fp\n",
        "\n",
        "res_pred = tp_fn+tn_fp\n",
        "\n",
        "# true results\n",
        "act_pos = [1]*820\n",
        "act_neg = [0]*180\n",
        "\n",
        "res_true = act_pos + act_neg"
      ],
      "metadata": {
        "colab": {
          "base_uri": "https://localhost:8080/"
        },
        "id": "de8IyWzatsiw",
        "outputId": "6b4ba737-1254-47ea-d4c8-f8a6c5dc0ec0"
      },
      "execution_count": 114,
      "outputs": [
        {
          "output_type": "execute_result",
          "data": {
            "text/plain": [
              "1000"
            ]
          },
          "metadata": {},
          "execution_count": 114
        }
      ]
    },
    {
      "cell_type": "code",
      "source": [
        "data = {'pred':res_pred, \n",
        "        'true':res_true}\n",
        "df = pd.DataFrame(data)"
      ],
      "metadata": {
        "id": "kosmlKs8xJZV"
      },
      "execution_count": 115,
      "outputs": []
    },
    {
      "cell_type": "code",
      "source": [
        "conf_mat = confusion_matrix(np.abs(df['pred']-1), np.abs(df['true']-1))\n",
        "conf_mat"
      ],
      "metadata": {
        "colab": {
          "base_uri": "https://localhost:8080/"
        },
        "id": "AgIV9Wr7tf8L",
        "outputId": "297d8b1e-f1a1-4abf-d0fb-8b69d86e0ec3"
      },
      "execution_count": 118,
      "outputs": [
        {
          "output_type": "execute_result",
          "data": {
            "text/plain": [
              "array([[700,  80],\n",
              "       [120, 100]])"
            ]
          },
          "metadata": {},
          "execution_count": 118
        }
      ]
    },
    {
      "cell_type": "code",
      "source": [
        "cm = [[conf_mat[0][0], conf_mat[0][1]], [conf_mat[1][0], conf_mat[1][1]]]\n",
        "sns.set(font_scale=1.5)\n",
        "plt.figure(figsize=(5 ,5))\n",
        "ax = sns.heatmap(data=[[1,0],\n",
        "                       [0,1]],\n",
        "                cmap=sns.color_palette(['tomato', 'lightgreen'], as_cmap=True),\n",
        "                 annot=[[f\"TP={cm[0][0]:.0f}\", f\"FP={cm[0][1]:.0f}\"], [f\"FN={cm[1][0]:.0f}\", f\"TN={cm[1][1]:.0f}\"]],\n",
        "                 fmt='', annot_kws={'fontsize': 15}, cbar=False, square=True)\n",
        "\n",
        "ax.set_xlabel('Actual Values')\n",
        "ax.set_ylabel('Predicted')\n",
        "ax.tick_params(length=0, labeltop=True, labelbottom=False)\n",
        "ax.xaxis.set_label_position('top')\n",
        "ax.set_xticklabels(['Positive', 'Negative'])\n",
        "ax.set_yticklabels(['Positive', 'Negative'], rotation=90, va='center')\n",
        "ax.add_patch(plt.Rectangle((0, 1), 1, 0.08, color='lightgrey', clip_on=False, zorder=0, transform=ax.transAxes))\n",
        "ax.add_patch(plt.Rectangle((0, 0), -0.08, 1, color='lightgrey', clip_on=False, zorder=0, transform=ax.transAxes))\n",
        "plt.tight_layout()"
      ],
      "metadata": {
        "colab": {
          "base_uri": "https://localhost:8080/",
          "height": 352
        },
        "id": "0RtkxIuw6uja",
        "outputId": "764248e2-0f30-4279-da2d-cbdac39c7f67"
      },
      "execution_count": 119,
      "outputs": [
        {
          "output_type": "display_data",
          "data": {
            "text/plain": [
              "<Figure size 360x360 with 1 Axes>"
            ],
            "image/png": "[encoded data removed]"
          },
          "metadata": {}
        }
      ]
    },
    {
      "cell_type": "code",
      "source": [
        ""
      ],
      "metadata": {
        "id": "EVFBW3myzoMK"
      },
      "execution_count": null,
      "outputs": []
    }
  ]
}